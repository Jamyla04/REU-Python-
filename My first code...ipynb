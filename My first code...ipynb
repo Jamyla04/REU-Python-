{
 "metadata": {
  "language_info": {
   "codemirror_mode": {
    "name": "ipython",
    "version": 3
   },
   "file_extension": ".py",
   "mimetype": "text/x-python",
   "name": "python",
   "nbconvert_exporter": "python",
   "pygments_lexer": "ipython3",
   "version": "3.9.5"
  },
  "orig_nbformat": 2,
  "kernelspec": {
   "name": "python395jvsc74a57bd0aee8b7b246df8f9039afb4144a1f6fd8d2ca17a180786b69acc140d282b71a49",
   "display_name": "Python 3.9.5 64-bit"
  },
  "metadata": {
   "interpreter": {
    "hash": "aee8b7b246df8f9039afb4144a1f6fd8d2ca17a180786b69acc140d282b71a49"
   }
  }
 },
 "nbformat": 4,
 "nbformat_minor": 2,
 "cells": [
  {
   "cell_type": "code",
   "execution_count": 12,
   "metadata": {},
   "outputs": [
    {
     "output_type": "stream",
     "name": "stdout",
     "text": [
      "1\n<class 'int'>\n1000000000000000\n<class 'int'>\n"
     ]
    }
   ],
   "source": [
    "# Intergers\n",
    "x = 1\n",
    "print(x)\n",
    "print(type(x))\n",
    "x = 1000000000000000\n",
    "print(x)\n",
    "print(type(x))"
   ]
  },
  {
   "cell_type": "code",
   "execution_count": 13,
   "metadata": {},
   "outputs": [
    {
     "output_type": "stream",
     "name": "stdout",
     "text": [
      "8\n<class 'int'>\n"
     ]
    }
   ],
   "source": [
    "age = int(input('Please enter your age:'))\n",
    "print(age)\n",
    "print(type(age))\n"
   ]
  },
  {
   "cell_type": "code",
   "execution_count": 14,
   "metadata": {},
   "outputs": [
    {
     "output_type": "stream",
     "name": "stdout",
     "text": [
      "1.83\n<class 'float'>\n"
     ]
    }
   ],
   "source": [
    "# Floating Points\n",
    "exchange_rate = 1.83\n",
    "print(exchange_rate)\n",
    "print(type(exchange_rate))"
   ]
  },
  {
   "cell_type": "code",
   "execution_count": 15,
   "metadata": {},
   "outputs": [
    {
     "output_type": "stream",
     "name": "stdout",
     "text": [
      "Int value as a float: 1.0\n<class 'float'>\nstring value as a float: 1.5\n<class 'float'>\n"
     ]
    }
   ],
   "source": [
    "# Converting to Float\n",
    "int_value = 1\n",
    "string_value = '1.5'\n",
    "float_value = float(int_value)\n",
    "print('Int value as a float:', float_value)\n",
    "print(type(float_value))\n",
    "float_value = float(string_value)\n",
    "print('string value as a float:', float_value)\n",
    "print(type(float_value))"
   ]
  },
  {
   "cell_type": "code",
   "execution_count": 16,
   "metadata": {},
   "outputs": [
    {
     "output_type": "stream",
     "name": "stdout",
     "text": [
      "8.0\n<class 'float'>\n"
     ]
    }
   ],
   "source": [
    "# coverting an Input string into a floating point number\n",
    "exchange_rate = float(input('please enter the exchange rate to use:'))\n",
    "print(exchange_rate)\n",
    "print(type(exchange_rate))"
   ]
  },
  {
   "cell_type": "code",
   "execution_count": 17,
   "metadata": {},
   "outputs": [
    {
     "output_type": "stream",
     "name": "stdout",
     "text": [
      "True\nFalse\n<class 'bool'>\n"
     ]
    }
   ],
   "source": [
    "# Boolean Value\n",
    "all_ok = True\n",
    "print(all_ok)\n",
    "all_ok = False\n",
    "print(all_ok)\n",
    "print(type(all_ok))"
   ]
  },
  {
   "cell_type": "code",
   "execution_count": 18,
   "metadata": {},
   "outputs": [
    {
     "output_type": "stream",
     "name": "stdout",
     "text": [
      "False\n<class 'bool'>\n"
     ]
    }
   ],
   "source": [
    "# Convert string into Booleean\n",
    "status = bool(input ('Ok to proceed:'))\n",
    "print(status)\n",
    "print(type(status))"
   ]
  },
  {
   "cell_type": "code",
   "execution_count": 19,
   "metadata": {},
   "outputs": [
    {
     "output_type": "stream",
     "name": "stdout",
     "text": [
      "1\n0\nTrue\nFalse\n"
     ]
    }
   ],
   "source": [
    "# the boolean type is actually a sub type of integer\n",
    "print(int(True))\n",
    "print(int(False))\n",
    "print(bool(1))\n",
    "print(bool(0))"
   ]
  },
  {
   "cell_type": "code",
   "execution_count": 20,
   "metadata": {},
   "outputs": [
    {
     "output_type": "stream",
     "name": "stdout",
     "text": [
      "25\n<class 'int'>\n40\n<class 'int'>\n3\n<class 'int'>\n"
     ]
    }
   ],
   "source": [
    "home = 10\n",
    "away = 15\n",
    "print(home + away)\n",
    "print(type(home + away))\n",
    "print(10*4)\n",
    "print(type(10*4))\n",
    "goals_for = 10\n",
    "goals_again = 7\n",
    "print(goals_for-goals_again)\n",
    "print(type(goals_for-goals_again))"
   ]
  },
  {
   "cell_type": "code",
   "execution_count": 21,
   "metadata": {},
   "outputs": [
    {
     "output_type": "stream",
     "name": "stdout",
     "text": [
      "5.0\n<class 'float'>\n"
     ]
    }
   ],
   "source": [
    "print(100/20)\n",
    "print(type(100/20))"
   ]
  },
  {
   "cell_type": "code",
   "execution_count": 22,
   "metadata": {},
   "outputs": [
    {
     "output_type": "stream",
     "name": "stdout",
     "text": [
      "25\n"
     ]
    }
   ],
   "source": [
    "print(5**2)"
   ]
  },
  {
   "cell_type": "code",
   "execution_count": 23,
   "metadata": {},
   "outputs": [
    {
     "output_type": "stream",
     "name": "stdout",
     "text": [
      "<class 'float'>\n2.0\n4\n<class 'int'>\n"
     ]
    }
   ],
   "source": [
    "print(type(10.3//2.5))\n",
    "print(10/5)\n",
    "convert_int = int(10.3//2.5)\n",
    "print(convert_int)\n",
    "print(type(convert_int))"
   ]
  },
  {
   "cell_type": "code",
   "execution_count": 24,
   "metadata": {},
   "outputs": [
    {
     "output_type": "error",
     "ename": "ValueError",
     "evalue": "invalid literal for int() with base 10: ''",
     "traceback": [
      "\u001b[0;31m---------------------------------------------------------------------------\u001b[0m",
      "\u001b[0;31mValueError\u001b[0m                                Traceback (most recent call last)",
      "\u001b[0;32m<ipython-input-24-0dd721f9f000>\u001b[0m in \u001b[0;36m<module>\u001b[0;34m\u001b[0m\n\u001b[1;32m      1\u001b[0m \u001b[0;31m# work with an if statement\u001b[0m\u001b[0;34m\u001b[0m\u001b[0;34m\u001b[0m\u001b[0;34m\u001b[0m\u001b[0m\n\u001b[0;32m----> 2\u001b[0;31m \u001b[0mnum\u001b[0m \u001b[0;34m=\u001b[0m \u001b[0mint\u001b[0m\u001b[0;34m(\u001b[0m\u001b[0minput\u001b[0m\u001b[0;34m(\u001b[0m\u001b[0;34m'Enter a number: '\u001b[0m\u001b[0;34m)\u001b[0m\u001b[0;34m)\u001b[0m\u001b[0;34m\u001b[0m\u001b[0;34m\u001b[0m\u001b[0m\n\u001b[0m\u001b[1;32m      3\u001b[0m \u001b[0;32mif\u001b[0m \u001b[0mnum\u001b[0m \u001b[0;34m<\u001b[0m \u001b[0;36m0\u001b[0m\u001b[0;34m:\u001b[0m\u001b[0;34m\u001b[0m\u001b[0;34m\u001b[0m\u001b[0m\n\u001b[1;32m      4\u001b[0m    \u001b[0mprint\u001b[0m\u001b[0;34m(\u001b[0m\u001b[0mnum\u001b[0m\u001b[0;34m,\u001b[0m \u001b[0;34m'is negative'\u001b[0m\u001b[0;34m)\u001b[0m\u001b[0;34m\u001b[0m\u001b[0;34m\u001b[0m\u001b[0m\n",
      "\u001b[0;31mValueError\u001b[0m: invalid literal for int() with base 10: ''"
     ]
    }
   ],
   "source": [
    "# work with an if statement\n",
    "num = int(input('Enter a number: '))\n",
    "if num < 0:\n",
    "   print(num, 'is negative')"
   ]
  },
  {
   "cell_type": "code",
   "execution_count": 7,
   "metadata": {},
   "outputs": [
    {
     "output_type": "stream",
     "name": "stdout",
     "text": [
      "3 is positive\n3 square is 9\nBye\n"
     ]
    }
   ],
   "source": [
    "num = int(input('Enter another number: '))\n",
    "if num > 0:\n",
    "    print(num, 'is positive')\n",
    "    print(num, 'square is' , num**2)\n",
    "print('Bye')"
   ]
  },
  {
   "cell_type": "code",
   "execution_count": 8,
   "metadata": {},
   "outputs": [
    {
     "output_type": "stream",
     "name": "stdout",
     "text": [
      "-8 is negative\nBye\n"
     ]
    }
   ],
   "source": [
    "num = int(input('Enter another number: '))\n",
    "if num > 0:\n",
    "    print(num, 'is positive')\n",
    "    print(num, 'square is' , num**2)\n",
    "else:\n",
    "    print(num, 'is negative')\n",
    "print('Bye')"
   ]
  },
  {
   "cell_type": "code",
   "execution_count": 9,
   "metadata": {},
   "outputs": [
    {
     "output_type": "stream",
     "name": "stdout",
     "text": [
      "Thank you\n"
     ]
    }
   ],
   "source": [
    "saving = float(input('Enter how much you have in saving: '))\n",
    "if saving == 0:\n",
    "    print('sorry no saving')\n",
    "elif saving < 500 and saving > 0:\n",
    "    print('well done')\n",
    "elif saving < 1000 and saving > 0:\n",
    "    print('Thats a tindy sum')\n",
    "elif saving < 10000 and saving > 0:\n",
    "    print('Welcome sir!')\n",
    "else:\n",
    "    print('Thank you')"
   ]
  },
  {
   "cell_type": "code",
   "execution_count": 1,
   "metadata": {},
   "outputs": [
    {
     "output_type": "stream",
     "name": "stdout",
     "text": [
      "teenager\n"
     ]
    }
   ],
   "source": [
    "age = 15\n",
    "status = None\n",
    "if (age > 12) and age < 20:\n",
    "    status = 'teenager'\n",
    "else:\n",
    "    status = 'not teenager'\n",
    "print(status)"
   ]
  },
  {
   "cell_type": "code",
   "execution_count": 4,
   "metadata": {},
   "outputs": [
    {
     "output_type": "stream",
     "name": "stdout",
     "text": [
      "Bye\n"
     ]
    }
   ],
   "source": [
    "# Nesting If Statements\n",
    "snowing = False\n",
    "temp = 85\n",
    "if temp < 65:\n",
    "    print('It is freezing')\n",
    "    if snowing:\n",
    "        print('Put on boots')\n",
    "        print('Time for Hot Chocolate')\n",
    "print('Bye')\n",
    "\n"
   ]
  },
  {
   "cell_type": "code",
   "execution_count": 7,
   "metadata": {},
   "outputs": [
    {
     "output_type": "stream",
     "name": "stdout",
     "text": [
      "Starting\n0  1  2  3  4  5  6  7  8  9  Done\n"
     ]
    }
   ],
   "source": [
    "count = 0\n",
    "print('Starting')\n",
    "while count < 10:\n",
    "    print(count,'',end=\n",
    "    ' ')\n",
    "    count += 1\n",
    "print ('Done')"
   ]
  },
  {
   "cell_type": "code",
   "execution_count": 8,
   "metadata": {},
   "outputs": [
    {
     "output_type": "stream",
     "name": "stdout",
     "text": [
      "Print out values in a range\n0   1   2   3   4   5   6   7   8   9   Done\n"
     ]
    }
   ],
   "source": [
    "print('Print out values in a range')\n",
    "for i in range(0,10):\n",
    "    print(i,' ', end=' ')\n",
    "print('Done')"
   ]
  },
  {
   "cell_type": "code",
   "execution_count": 11,
   "metadata": {},
   "outputs": [
    {
     "output_type": "stream",
     "name": "stdout",
     "text": [
      "Only print code if all interations completed\n",
      "0   1   2   3   Done\n"
     ]
    }
   ],
   "source": [
    "# Break loop statements\n",
    "print('Only print code if all interations completed')\n",
    "num = int(input('Enter a number to check for: '))\n",
    "for i in range(0,6):\n",
    "    if i==num:\n",
    "        break\n",
    "    print(i,' ',end=' ')\n",
    "print('Done')"
   ]
  },
  {
   "cell_type": "code",
   "execution_count": 25,
   "metadata": {},
   "outputs": [
    {
     "output_type": "stream",
     "name": "stdout",
     "text": [
      "0   hey its an even number\nwe love even number\n1   2   hey its an even number\nwe love even number\n3   4   hey its an even number\nwe love even number\n5   6   hey its an even number\nwe love even number\n7   8   hey its an even number\nwe love even number\n9   Done\n"
     ]
    }
   ],
   "source": [
    "# COntinue Loop STstement\n",
    "for i in range (0,10):\n",
    "    print(i,' ',end=' ')\n",
    "    if i%2==1:\n",
    "        continue\n",
    "    print('hey its an even number')\n",
    "    print('we love even number')\n",
    "print('Done')"
   ]
  },
  {
   "cell_type": "code",
   "execution_count": 32,
   "metadata": {},
   "outputs": [
    {
     "output_type": "execute_result",
     "data": {
      "text/plain": [
       "['orange',\n",
       " 'apple',\n",
       " 'orange',\n",
       " 'pear',\n",
       " 'banana',\n",
       " 'kiwi',\n",
       " 'apple',\n",
       " 'banana',\n",
       " 'kiwi']"
      ]
     },
     "metadata": {},
     "execution_count": 32
    }
   ],
   "source": [
    "# Creating a list\n",
    "fruits = ['orange', 'apple', 'pear', 'banana', 'kiwi', 'apple', 'banana']\n",
    "fruits.append('kiwi')\n",
    "fruits.insert(2,'orange')\n",
    "fruits"
   ]
  },
  {
   "cell_type": "code",
   "execution_count": 33,
   "metadata": {},
   "outputs": [
    {
     "output_type": "execute_result",
     "data": {
      "text/plain": [
       "['orange', 'apple', 'orange', 'banana', 'kiwi', 'apple', 'banana', 'kiwi']"
      ]
     },
     "metadata": {},
     "execution_count": 33
    }
   ],
   "source": [
    "fruits.remove('pear')\n",
    "fruits\n",
    "\n"
   ]
  },
  {
   "cell_type": "code",
   "execution_count": 34,
   "metadata": {},
   "outputs": [
    {
     "output_type": "execute_result",
     "data": {
      "text/plain": [
       "['orange', 'apple', 'orange', 'kiwi', 'apple', 'banana', 'kiwi']"
      ]
     },
     "metadata": {},
     "execution_count": 34
    }
   ],
   "source": [
    "fruits.pop(3)\n",
    "fruits"
   ]
  },
  {
   "cell_type": "code",
   "execution_count": 35,
   "metadata": {},
   "outputs": [
    {
     "output_type": "execute_result",
     "data": {
      "text/plain": [
       "['kiwi', 'banana', 'apple', 'kiwi', 'orange', 'apple', 'orange']"
      ]
     },
     "metadata": {},
     "execution_count": 35
    }
   ],
   "source": [
    "fruits.reverse()\n",
    "fruits"
   ]
  },
  {
   "cell_type": "code",
   "execution_count": 42,
   "metadata": {},
   "outputs": [
    {
     "output_type": "execute_result",
     "data": {
      "text/plain": [
       "{'jack': 4098, 'sape': 4139}"
      ]
     },
     "metadata": {},
     "execution_count": 42
    }
   ],
   "source": [
    "#Dictionaries\n",
    "tel = {'jack':4098, 'sape' :4139}\n",
    "tel"
   ]
  },
  {
   "cell_type": "code",
   "execution_count": 43,
   "metadata": {},
   "outputs": [
    {
     "output_type": "execute_result",
     "data": {
      "text/plain": [
       "{'jack': 4098, 'sape': 4139, 'guido': 4127}"
      ]
     },
     "metadata": {},
     "execution_count": 43
    }
   ],
   "source": [
    "tel['guido']=4127\n",
    "tel"
   ]
  },
  {
   "cell_type": "code",
   "execution_count": 44,
   "metadata": {},
   "outputs": [
    {
     "output_type": "execute_result",
     "data": {
      "text/plain": [
       "['jack', 'sape', 'guido']"
      ]
     },
     "metadata": {},
     "execution_count": 44
    }
   ],
   "source": [
    "list(tel)"
   ]
  },
  {
   "cell_type": "code",
   "execution_count": 45,
   "metadata": {},
   "outputs": [
    {
     "output_type": "execute_result",
     "data": {
      "text/plain": [
       "['guido', 'jack', 'sape']"
      ]
     },
     "metadata": {},
     "execution_count": 45
    }
   ],
   "source": [
    "sorted(tel)"
   ]
  },
  {
   "cell_type": "code",
   "execution_count": 47,
   "metadata": {},
   "outputs": [
    {
     "output_type": "stream",
     "name": "stdout",
     "text": [
      "gallahad the pure\nrobin the brave\n"
     ]
    }
   ],
   "source": [
    "knight = {'gallahad':'the pure','robin':'the brave'}\n",
    "for k, v in knight.items():\n",
    "    print(k,v)"
   ]
  },
  {
   "cell_type": "code",
   "execution_count": 52,
   "metadata": {},
   "outputs": [
    {
     "output_type": "execute_result",
     "data": {
      "text/plain": [
       "'Ford'"
      ]
     },
     "metadata": {},
     "execution_count": 52
    }
   ],
   "source": [
    "thisdict = {'brand': 'Ford', 'electric':False, 'Year': 1964, 'colors':['red','white', 'blue']}\n",
    "thisdict['brand']"
   ]
  },
  {
   "cell_type": "code",
   "execution_count": 53,
   "metadata": {},
   "outputs": [
    {
     "output_type": "execute_result",
     "data": {
      "text/plain": [
       "False"
      ]
     },
     "metadata": {},
     "execution_count": 53
    }
   ],
   "source": [
    "thisdict['electric']"
   ]
  },
  {
   "cell_type": "code",
   "execution_count": 54,
   "metadata": {},
   "outputs": [
    {
     "output_type": "execute_result",
     "data": {
      "text/plain": [
       "'blue'"
      ]
     },
     "metadata": {},
     "execution_count": 54
    }
   ],
   "source": [
    "thisdict['colors'][2]"
   ]
  },
  {
   "cell_type": "code",
   "execution_count": null,
   "metadata": {},
   "outputs": [],
   "source": []
  }
 ]
}